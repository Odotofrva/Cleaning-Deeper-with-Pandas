{
 "cells": [
  {
   "cell_type": "markdown",
   "id": "4d3ea6a0",
   "metadata": {},
   "source": [
    "# Data Cleaning Using Pandas\n",
    "\n",
    "The goal in this project is to work on my data cleanihng skills using Python:\n",
    "\n",
    "\n",
    "## Data Cleaning Steps:\n",
    "\n",
    "\n",
    "\n",
    "### Questions of the data\n",
    "\n",
    "For this DataFrame, the goal was to answer the following questions after cleaning:\n",
    "- Who are the employees\n",
    "- What is the lowest salary\n",
    "- What is the highest salary\n",
    "- 3 cities make the highest\n",
    "- 2 cities who make the lowest\n",
    "- What is the total salaries being paid out to the employees annually.\n",
    "- Create visualization of the data.\n",
    "\n",
    "\n",
    "\n",
    "\n",
    "\n"
   ]
  },
  {
   "cell_type": "code",
   "execution_count": 412,
   "id": "e03fe14b",
   "metadata": {},
   "outputs": [],
   "source": [
    "import pandas as pd\n",
    "import numpy as np\n",
    "import matplotlib.pyplot as plt\n",
    "\n",
    "\n"
   ]
  },
  {
   "cell_type": "code",
   "execution_count": 413,
   "id": "e72992b9",
   "metadata": {},
   "outputs": [],
   "source": [
    "# Create a dictionary with sample data\n",
    "data = {\n",
    "    'Name': ['Alice', 'Bob', 'Charlie', None, 'Eve', 'Bob', 'Frank', 'Grace', 'Hannah', 'Ivy'],\n",
    "    'Age': [25, 30, 'thirty-five', 40, None, 30, 29, '', 22, 22],\n",
    "    'City': ['New York', 'Los Angeles', 'Chicago', 'Houston', 'Phoenix', 'Los Angeles', None, 'San Francisco', 'Chicago', 'Miami'],\n",
    "    'Salary': [70000, 80000, 120000, None, 60000, 80000, 50000, 75000, 85000, 90000]\n",
    "}\n",
    "\n"
   ]
  },
  {
   "cell_type": "code",
   "execution_count": 414,
   "id": "8bcbe07c",
   "metadata": {},
   "outputs": [
    {
     "name": "stdout",
     "output_type": "stream",
     "text": [
      "      Name          Age           City    Salary\n",
      "0    Alice           25       New York   70000.0\n",
      "1      Bob           30    Los Angeles   80000.0\n",
      "2  Charlie  thirty-five        Chicago  120000.0\n",
      "3     None           40        Houston       NaN\n",
      "4      Eve         None        Phoenix   60000.0\n",
      "5      Bob           30    Los Angeles   80000.0\n",
      "6    Frank           29           None   50000.0\n",
      "7    Grace               San Francisco   75000.0\n",
      "8   Hannah           22        Chicago   85000.0\n",
      "9      Ivy           22          Miami   90000.0\n",
      "Index(['Name', 'Age', 'City', 'Salary'], dtype='object')\n"
     ]
    }
   ],
   "source": [
    "# Create the DataFrame\n",
    "df = pd.DataFrame(data)\n",
    "print(df)\n",
    "print(df.columns)\n"
   ]
  },
  {
   "cell_type": "markdown",
   "id": "32918df6",
   "metadata": {},
   "source": [
    "# Data Cleaning:\n"
   ]
  },
  {
   "cell_type": "code",
   "execution_count": 415,
   "id": "1788932c",
   "metadata": {},
   "outputs": [
    {
     "name": "stdout",
     "output_type": "stream",
     "text": [
      "      Name          Age           City    Salary\n",
      "0    Alice           25       New York   70000.0\n",
      "1      Bob           30    Los Angeles   80000.0\n",
      "2  Charlie  thirty-five        Chicago  120000.0\n",
      "3     None           40        Houston       NaN\n",
      "4      Eve         None        Phoenix   60000.0\n",
      "6    Frank           29           None   50000.0\n",
      "7    Grace               San Francisco   75000.0\n",
      "8   Hannah           22        Chicago   85000.0\n",
      "9      Ivy           22          Miami   90000.0\n"
     ]
    }
   ],
   "source": [
    "# Dropped all duplicates\n",
    "# Row 5: is also Bob ROW 1\n",
    "\n",
    "df.drop_duplicates(inplace=True)\n",
    "print(df)"
   ]
  },
  {
   "cell_type": "code",
   "execution_count": 416,
   "id": "c1fda7aa",
   "metadata": {},
   "outputs": [
    {
     "name": "stdout",
     "output_type": "stream",
     "text": [
      "None\n",
      "      Name          Age           City    Salary\n",
      "0    Alice           25       New York   70000.0\n",
      "1      Bob           30    Los Angeles   80000.0\n",
      "2  Charlie  thirty-five        Chicago  120000.0\n",
      "7    Grace               San Francisco   75000.0\n",
      "8   Hannah           22        Chicago   85000.0\n",
      "9      Ivy           22          Miami   90000.0\n"
     ]
    }
   ],
   "source": [
    "# Remove all NaN or empty records\n",
    "\n",
    "print(df.dropna(inplace=True))\n",
    "print(df)\n"
   ]
  },
  {
   "cell_type": "code",
   "execution_count": 417,
   "id": "c1c68116",
   "metadata": {},
   "outputs": [
    {
     "name": "stdout",
     "output_type": "stream",
     "text": [
      "      Name           City    Salary\n",
      "0    Alice       New York   70000.0\n",
      "1      Bob    Los Angeles   80000.0\n",
      "2  Charlie        Chicago  120000.0\n",
      "7    Grace  San Francisco   75000.0\n",
      "8   Hannah        Chicago   85000.0\n",
      "9      Ivy          Miami   90000.0\n"
     ]
    }
   ],
   "source": [
    "df2 = (df.drop('Age', axis=1))\n",
    "print(df2)\n"
   ]
  },
  {
   "cell_type": "code",
   "execution_count": null,
   "id": "d0344c93",
   "metadata": {},
   "outputs": [],
   "source": []
  },
  {
   "cell_type": "markdown",
   "id": "920c73c4",
   "metadata": {},
   "source": [
    "# Data Analysis: \n",
    "\n",
    "\n",
    "Questions of the Data.\n",
    "\n",
    "For this DataFrame, the goal was to answer the following questions after cleaning:\n",
    "- Who are the employees?\n",
    "- What is the lowest salary?\n",
    "- What is the highest salary?\n",
    "- 3 cities make the highest?\n",
    "- 2 cities who make the lowest?\n",
    "- What is the total salaries being paid out to the employees annually?\n"
   ]
  },
  {
   "cell_type": "code",
   "execution_count": 418,
   "id": "a25459db",
   "metadata": {},
   "outputs": [
    {
     "name": "stdout",
     "output_type": "stream",
     "text": [
      "0      Alice\n",
      "1        Bob\n",
      "2    Charlie\n",
      "7      Grace\n",
      "8     Hannah\n",
      "9        Ivy\n",
      "Name: Name, dtype: object\n"
     ]
    }
   ],
   "source": [
    "# Who are the employees?\n",
    "\n",
    "print(df2['Name'])\n"
   ]
  },
  {
   "cell_type": "code",
   "execution_count": 419,
   "id": "1befc8b4",
   "metadata": {},
   "outputs": [
    {
     "name": "stdout",
     "output_type": "stream",
     "text": [
      "70000.0\n"
     ]
    }
   ],
   "source": [
    "print(df2.Salary.min()) # minimum salary 70000.0\n"
   ]
  },
  {
   "cell_type": "code",
   "execution_count": 420,
   "id": "d22966ef",
   "metadata": {},
   "outputs": [
    {
     "name": "stdout",
     "output_type": "stream",
     "text": [
      "120000.0\n"
     ]
    }
   ],
   "source": [
    "print(df2.Salary.max()) # maximum salary 120000.0"
   ]
  },
  {
   "cell_type": "markdown",
   "id": "5a0269da",
   "metadata": {},
   "source": []
  },
  {
   "cell_type": "code",
   "execution_count": 421,
   "id": "dc359ec8",
   "metadata": {},
   "outputs": [
    {
     "data": {
      "text/html": [
       "<div>\n",
       "<style scoped>\n",
       "    .dataframe tbody tr th:only-of-type {\n",
       "        vertical-align: middle;\n",
       "    }\n",
       "\n",
       "    .dataframe tbody tr th {\n",
       "        vertical-align: top;\n",
       "    }\n",
       "\n",
       "    .dataframe thead th {\n",
       "        text-align: right;\n",
       "    }\n",
       "</style>\n",
       "<table border=\"1\" class=\"dataframe\">\n",
       "  <thead>\n",
       "    <tr style=\"text-align: right;\">\n",
       "      <th></th>\n",
       "      <th>Name</th>\n",
       "      <th>City</th>\n",
       "      <th>Salary</th>\n",
       "    </tr>\n",
       "  </thead>\n",
       "  <tbody>\n",
       "    <tr>\n",
       "      <th>0</th>\n",
       "      <td>Alice</td>\n",
       "      <td>New York</td>\n",
       "      <td>70000.0</td>\n",
       "    </tr>\n",
       "    <tr>\n",
       "      <th>1</th>\n",
       "      <td>Bob</td>\n",
       "      <td>Los Angeles</td>\n",
       "      <td>80000.0</td>\n",
       "    </tr>\n",
       "    <tr>\n",
       "      <th>2</th>\n",
       "      <td>Charlie</td>\n",
       "      <td>Chicago</td>\n",
       "      <td>120000.0</td>\n",
       "    </tr>\n",
       "    <tr>\n",
       "      <th>7</th>\n",
       "      <td>Grace</td>\n",
       "      <td>San Francisco</td>\n",
       "      <td>75000.0</td>\n",
       "    </tr>\n",
       "    <tr>\n",
       "      <th>8</th>\n",
       "      <td>Hannah</td>\n",
       "      <td>Chicago</td>\n",
       "      <td>85000.0</td>\n",
       "    </tr>\n",
       "    <tr>\n",
       "      <th>9</th>\n",
       "      <td>Ivy</td>\n",
       "      <td>Miami</td>\n",
       "      <td>90000.0</td>\n",
       "    </tr>\n",
       "  </tbody>\n",
       "</table>\n",
       "</div>"
      ],
      "text/plain": [
       "      Name           City    Salary\n",
       "0    Alice       New York   70000.0\n",
       "1      Bob    Los Angeles   80000.0\n",
       "2  Charlie        Chicago  120000.0\n",
       "7    Grace  San Francisco   75000.0\n",
       "8   Hannah        Chicago   85000.0\n",
       "9      Ivy          Miami   90000.0"
      ]
     },
     "execution_count": 421,
     "metadata": {},
     "output_type": "execute_result"
    }
   ],
   "source": [
    "df2 # print df\n"
   ]
  },
  {
   "cell_type": "code",
   "execution_count": 422,
   "id": "e5937fec",
   "metadata": {},
   "outputs": [
    {
     "name": "stdout",
     "output_type": "stream",
     "text": [
      "520000.0\n"
     ]
    }
   ],
   "source": [
    "print(df2.Salary.sum()) # 520000.0 is the total salary sum of all employees.\n",
    "\n"
   ]
  }
 ],
 "metadata": {
  "kernelspec": {
   "display_name": "env",
   "language": "python",
   "name": "python3"
  },
  "language_info": {
   "codemirror_mode": {
    "name": "ipython",
    "version": 3
   },
   "file_extension": ".py",
   "mimetype": "text/x-python",
   "name": "python",
   "nbconvert_exporter": "python",
   "pygments_lexer": "ipython3",
   "version": "3.13.7"
  }
 },
 "nbformat": 4,
 "nbformat_minor": 5
}
